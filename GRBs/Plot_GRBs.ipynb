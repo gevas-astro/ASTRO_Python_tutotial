{
 "cells": [
  {
   "cell_type": "code",
   "execution_count": 1,
   "metadata": {},
   "outputs": [],
   "source": [
    "import numpy as np\n",
    "import matplotlib.pyplot as plt\n",
    "%matplotlib inline\n",
    "import pandas as pd\n",
    "import scipy.optimize\n",
    "import requests"
   ]
  },
  {
   "cell_type": "code",
   "execution_count": 2,
   "metadata": {},
   "outputs": [],
   "source": [
    "# from uncertainties import ufloat\n",
    "from uncertainties.umath import *\n",
    "import math\n",
    "import numpy as np\n",
    "import matplotlib.pyplot as plt\n",
    "import pandas as pd\n",
    "from astropy.stats import LombScargle\n",
    "from scipy import signal\n",
    "%matplotlib inline\n",
    "import warnings\n",
    "warnings.filterwarnings(\"ignore\")\n",
    "import scipy.optimize\n",
    "from lmfit.models import GaussianModel\n",
    "from astropy.timeseries import LombScargle as lst"
   ]
  },
  {
   "cell_type": "code",
   "execution_count": 3,
   "metadata": {},
   "outputs": [],
   "source": [
    "#somewhat arbitrarily used a few plotting colors\n",
    "#set them to variables here so they can be easily changed\n",
    "c1 = 'cornflowerblue'\n",
    "c2 = 'navy'\n",
    "c3 = 'rebeccapurple'\n",
    "c4 = '#CF6275'\n",
    "c5 = 'maroon'\n"
   ]
  },
  {
   "cell_type": "code",
   "execution_count": 4,
   "metadata": {},
   "outputs": [],
   "source": [
    "from read_grbs import getgrb\n",
    "from read_grbs import plotgrb"
   ]
  },
  {
   "cell_type": "code",
   "execution_count": 5,
   "metadata": {},
   "outputs": [
    {
     "name": "stdout",
     "output_type": "stream",
     "text": [
      "00114299_flux.txt\n",
      "https://www.swift.ac.uk/xrt_curves/00114299/flux.qdp\n"
     ]
    }
   ],
   "source": [
    "GRB = '00112453'\n",
    "GRB = '00114299'\n",
    "d, d_fit, d_ul = getgrb(GRB)"
   ]
  },
  {
   "cell_type": "code",
   "execution_count": 22,
   "metadata": {},
   "outputs": [
    {
     "data": {
      "image/png": "[encoded data removed]",
      "text/plain": [
       "<Figure size 576x432 with 1 Axes>"
      ]
     },
     "metadata": {
      "needs_background": "light"
     },
     "output_type": "display_data"
    }
   ],
   "source": [
    "plotgrb(d)"
   ]
  },
  {
   "cell_type": "code",
   "execution_count": 37,
   "metadata": {},
   "outputs": [],
   "source": [
    "xf = np.log10(d_fit['t'])\n",
    "yf = np.log10(d_fit['f'])\n",
    "\n",
    "\n",
    "x = d_fit['t']\n",
    "xu = d_fit['tu']\n",
    "xl = d_fit['tl']\n",
    "\n",
    "y= d_fit['f']\n",
    "yu = d_fit['fu']\n",
    "yl = d_fit['fl']"
   ]
  },
  {
   "cell_type": "code",
   "execution_count": 38,
   "metadata": {},
   "outputs": [],
   "source": [
    "def lin(x, a, b):\n",
    "    x = np.array(x)\n",
    "    return a*x + b"
   ]
  },
  {
   "cell_type": "code",
   "execution_count": null,
   "metadata": {},
   "outputs": [],
   "source": []
  },
  {
   "cell_type": "code",
   "execution_count": 39,
   "metadata": {},
   "outputs": [
    {
     "data": {
      "text/plain": [
       "array([-1.05661668, -7.48976568])"
      ]
     },
     "execution_count": 39,
     "metadata": {},
     "output_type": "execute_result"
    }
   ],
   "source": [
    "fit_params, pcov = scipy.optimize.curve_fit(lin, xf, yf)\n",
    "fit_params"
   ]
  },
  {
   "cell_type": "code",
   "execution_count": 40,
   "metadata": {},
   "outputs": [],
   "source": [
    "y_fit2 = lin(xf, *fit_params)"
   ]
  },
  {
   "cell_type": "code",
   "execution_count": 48,
   "metadata": {},
   "outputs": [
    {
     "data": {
      "text/plain": [
       "Text(0, 0.5, 'flux')"
      ]
     },
     "execution_count": 48,
     "metadata": {},
     "output_type": "execute_result"
    },
    {
     "data": {
      "image/png": "[encoded data removed]",
      "text/plain": [
       "<Figure size 432x432 with 1 Axes>"
      ]
     },
     "metadata": {
      "needs_background": "light"
     },
     "output_type": "display_data"
    }
   ],
   "source": [
    "plt.figure(figsize = (6,6))\n",
    "\n",
    "# plt.errorbar(x,y,xerr=[-xl,xu],yerr=[-yl,yu],marker='o'\n",
    "#              ,markersize=4,color=c1,ls=' ')\n",
    "\n",
    "plt.errorbar(xf,yf,marker='o'\n",
    "             ,markersize=4,color=c1,ls=' ')\n",
    "\n",
    "# plt.plot(10**xf, 10**y_fit2,color=c4,alpha=.5,label='lin fit')\n",
    "\n",
    "plt.plot(xf, y_fit2,color=c4,alpha=.5,label='lin fit')\n",
    "# plt.legend()\n",
    "# plt.xticks(np.arange(0,20,2))\n",
    "plt.xlabel('t (sec)',fontsize=14)\n",
    "plt.ylabel('flux',fontsize=14)\n",
    "\n",
    "# plt.yscale('log')\n",
    "# plt.xscale('log')"
   ]
  },
  {
   "cell_type": "code",
   "execution_count": null,
   "metadata": {},
   "outputs": [],
   "source": []
  },
  {
   "cell_type": "code",
   "execution_count": 16,
   "metadata": {},
   "outputs": [
    {
     "data": {
      "image/png": "[encoded data removed]",
      "text/plain": [
       "<Figure size 576x432 with 1 Axes>"
      ]
     },
     "metadata": {
      "needs_background": "light"
     },
     "output_type": "display_data"
    }
   ],
   "source": [
    "x = d_fit['t']\n",
    "xu = d_fit['tu']\n",
    "xl = d_fit['tl']\n",
    "\n",
    "y= d_fit['f']\n",
    "yu = d_fit['fu']\n",
    "yl = d_fit['fl']\n",
    "\n",
    "x_ul= d_ul['t']\n",
    "xu_ul = d_ul['tu']\n",
    "xl_ul = d_ul['tl']\n",
    "\n",
    "y_ul= d_ul['f']\n",
    "\n",
    "\n",
    "plt.figure(figsize=(8,6))\n",
    "plt.errorbar(x,y,xerr=[-xl,xu],yerr=[-yl,yu],marker='o'\n",
    "             ,markersize=4,color=c1,ls=' ')\n",
    "\n",
    "plt.errorbar(x_ul, y_ul, xerr=xu_ul,yerr=y_ul/2, uplims=y_ul,ls=' ',color=c4)\n",
    "\n",
    "#flipped y axis since showing magnitudes\n",
    "\n",
    "plt.yscale('log')\n",
    "plt.xscale('log')"
   ]
  },
  {
   "cell_type": "code",
   "execution_count": null,
   "metadata": {},
   "outputs": [],
   "source": []
  }
 ],
 "metadata": {
  "kernelspec": {
   "display_name": "Python 3",
   "language": "python",
   "name": "python3"
  },
  "language_info": {
   "codemirror_mode": {
    "name": "ipython",
    "version": 3
   },
   "file_extension": ".py",
   "mimetype": "text/x-python",
   "name": "python",
   "nbconvert_exporter": "python",
   "pygments_lexer": "ipython3",
   "version": "3.7.4"
  }
 },
 "nbformat": 4,
 "nbformat_minor": 2
}
