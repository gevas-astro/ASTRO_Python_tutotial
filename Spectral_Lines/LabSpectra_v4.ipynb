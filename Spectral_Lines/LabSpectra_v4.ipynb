{
  "cells": [
    {
      "cell_type": "code",
      "execution_count": null,
      "metadata": {
        "id": "tFx_SDy9fCYO",
        "collapsed": true
      },
      "outputs": [],
      "source": [
        "# One can clone the data into colaboratory, but this has to be repeated every time one runs the notebook (takes 1 GB of space)\n",
        "# This space is NOT in your computer and is just on a server.\n",
        "!git clone https://github.com/BU-hammerTeam/PyHammer.git\n",
        "\n",
        "\n",
        "# Alternatively one can save a sub-set of data into their google drive, and connect colaboratory with drive.\n",
        "# This is NOT mandatory and is only helpfull is someone is more familiar with python and likes to try this.\n",
        "# You only need to save data once...\n",
        "# Download data and latest version of code\n",
        "# to access data follow the link and download\n",
        "# https://drive.google.com/drive/folders/1IzcCNYb01jyBqiNzRBqmj39yfLBRWP93?usp=sharing\n",
        "# Save data into drive, in the 'Astro_lab/DATA/' folder \n",
        "# you can also add a shortcut on shared with me folders.\n",
        "# https://support.google.com/drive/answer/2375057?hl=en&co=GENIE.Platform%3DDesktop\n",
        "# or...\n",
        "# Right-click on Shared Folders or files.\n",
        "# 2. Click on Download\n",
        "# Downloading Status will be shown in the bottom right corner.\n",
        "# 3. Goto My Drive\n",
        "# 4. Right-click on the empty area and click on \"Upload files\" for file or \"Upload folder\" for the folder.\n",
        "# 5. Select the location of the downloaded files and click on \"Open\".\n",
        "\n",
        "# https://stackoverflow.com/questions/48376580/google-colab-how-to-read-data-from-my-google-drive\n",
        "# USE THIS TO READ DATA FROM Google DRIVE\n",
        "# from google.colab import drive\n",
        "# drive.mount('/content/drive')"
      ]
    },
    {
      "cell_type": "code",
      "execution_count": null,
      "metadata": {
        "id": "jhrCkrVifFi3",
        "collapsed": true
      },
      "outputs": [],
      "source": [
        "# This isntalls spceutils, a tool/function used to analyze spectral data\n",
        "!pip install specutils"
      ]
    },
    {
      "cell_type": "code",
      "execution_count": null,
      "metadata": {
        "id": "xQXTJjlef7sI",
        "collapsed": true
      },
      "outputs": [],
      "source": [
        "# This is a set of functions used for interactive plotting  \n",
        "!pip install --upgrade plotly"
      ]
    },
    {
      "cell_type": "code",
      "execution_count": null,
      "metadata": {
        "id": "subhxPHjfI05"
      },
      "outputs": [],
      "source": [
        "# function used to read fits files. FITS are esentially text files that store multidimensional tables with specific format that is not read by normal human eyes :)\n",
        "from astropy.io import fits\n",
        "\n",
        "# function used to assing units to values, also helpfull to make calculations in SI CGS ets.\n",
        "from astropy import units as u\n",
        "\n",
        "#numerical library of functions\n",
        "import numpy as np\n",
        "\n",
        "import plotly.express as px #plotly is another -interactive- library for making plots\n",
        "\n",
        "#spectra utilities\n",
        "from specutils import Spectrum1D,SpectralRegion\n",
        "from specutils.analysis import equivalent_width\n",
        "\n",
        "# functions to access paths in operetional system and other ...\n",
        "import os.path\n",
        "\n",
        "# this imports pandas, a tool used for dataframes or 'tables'\n",
        "import pandas as pd"
      ]
    },
    {
      "cell_type": "code",
      "source": [
        "# What files do we have?\n",
        "# colaboratory works under a unix/linux terminal, so we can see what files are stored in our server\n",
        "# se by adding '!' at the start of the line we can use linux commands like 'ls' or list directory... same as DIR in DOS\n",
        "# so lets look what templates we downloaded with gic clone pyHAMMER\n",
        "!ls PyHammer/resources/templates/"
      ],
      "metadata": {
        "id": "5VhKoY_EbKCV"
      },
      "execution_count": null,
      "outputs": []
    },
    {
      "cell_type": "code",
      "execution_count": null,
      "metadata": {
        "id": "CeSZz_pAgLJF"
      },
      "outputs": [],
      "source": [
        "#USE THIS if you called git clone and pyHAMMER\n",
        "f=fits.open(\"PyHammer/resources/templates/M3_+0.0_Dwarf.fits\")\n",
        "\n",
        "#USE this for file in G Drive\n",
        "# f=fits.open(\"/content/drive/My Drive/Astro_lab/DATA/M3_+0.0_Dwarf.fits\")\n",
        "specdata = f[1].data \n",
        "specheader = f[0].header"
      ]
    },
    {
      "cell_type": "code",
      "execution_count": null,
      "metadata": {
        "id": "v45SLBzs6-98"
      },
      "outputs": [],
      "source": [
        "# these are the data of the fits table\n",
        "specdata"
      ]
    },
    {
      "cell_type": "code",
      "execution_count": null,
      "metadata": {
        "id": "RjZh5kEbgN1j"
      },
      "outputs": [],
      "source": [
        "lamb = 10**specdata['loglam'] * u.AA \n",
        "flux = specdata['flux'] * 10**-17 * u.Unit('erg cm-2 s-1 AA-1') \n",
        "spec = Spectrum1D(spectral_axis=lamb, flux=flux) \n",
        "\n",
        "#this is the header of the fits table... so information about columns, instrument or other stuff that someone who created the table found it usefull\n",
        "print('------------------------------ Header ------------------------------')\n",
        "print(repr(specheader))\n",
        "print('---------------------------- End Header ----------------------------')"
      ]
    },
    {
      "cell_type": "code",
      "execution_count": null,
      "metadata": {
        "id": "snQ-x6EijSwg"
      },
      "outputs": [],
      "source": [
        "# define wavelength of some line \n",
        "wv_Ca_K = 3933.7 \n",
        "wv_Ca_H = 3968.5 \n",
        "wv_Ha = 6562.8 \n"
      ]
    },
    {
      "cell_type": "code",
      "execution_count": null,
      "metadata": {
        "id": "S8U5gqNIf4hJ"
      },
      "outputs": [],
      "source": [
        "# Make a plot with wavelength and flux and plot vertical lines as specific energies\n",
        "fig=px.line(x=lamb, y=flux,labels={\"x\": f\"Wavelength [{lamb.unit.to_string()}]\",\"y\": f\"Flux [{flux.unit.to_string()}]\"}, width=1000, height=300)\n",
        "fig.update_layout(\n",
        "    margin=dict(l=0, r=5, t=0, b=0),\n",
        "    paper_bgcolor=\"LightSteelBlue\",\n",
        ")\n",
        "fig.add_vline(wv_Ca_K)\n",
        "fig.add_vline(wv_Ca_H)\n",
        "fig.add_vline(wv_Ha)\n",
        "fig"
      ]
    },
    {
      "cell_type": "code",
      "execution_count": null,
      "metadata": {
        "id": "i8cU0F8La7F0"
      },
      "outputs": [],
      "source": [
        "# To avoid writing the same code for every plot.. e.g. we need to plot 40 spectra we define a function that can use 3 inputs to make the plot\n",
        "# spectral_type: A, B, G, O etc\n",
        "# sub_spectral_type: 0,1...9\n",
        "# metalicity: +0.0, -0.5, +0.5   be carefull + is needed \n",
        "#  line: possition to draw a vertical line\n",
        "\n",
        "def plot_spectra(spectral_type,sub_spectral_type,metalicity,line=None):\n",
        "  fname=f\"PyHammer/resources/templates/{spectral_type}{sub_spectral_type}_{metalicity}_Dwarf.fits\"\n",
        "  #USE this for file in G Drive\n",
        "  # fname=f\"/content/drive/My Drive/Astro_lab/DATA/{spectral_type}{sub_spectral_type}_{metalicity}_Dwarf.fits\"\n",
        "  if os.path.isfile(fname):\n",
        "    f=fits.open(fname)\n",
        "    specdata = f[1].data \n",
        "    lamb = 10**specdata['loglam'] * u.AA \n",
        "    flux = specdata['flux'] * 10**-17 * u.Unit('erg cm-2 s-1 AA-1') \n",
        "    fig=px.line(x=lamb, y=flux,labels={\"x\": f\"Wavelength [{lamb.unit.to_string()}]\",\"y\": f\"Flux [{flux.unit.to_string()}]\"}, width=1000, height=300)\n",
        "    fig.update_layout(\n",
        "        margin=dict(l=0, r=5, t=0, b=0),\n",
        "        paper_bgcolor=\"LightSteelBlue\",\n",
        "    )\n",
        "    if line is not None:\n",
        "      fig.add_vline(line)\n",
        "    return fig\n",
        "  else:\n",
        "    raise ValueError(f\"The template {fname} does't exist\")"
      ]
    },
    {
      "cell_type": "code",
      "execution_count": null,
      "metadata": {
        "id": "WV6o-UdZbt80"
      },
      "outputs": [],
      "source": [
        "# run function with 4 inputs\n",
        "# see the lines, zoom in and think about the continuum.. where would you drow it?\n",
        "\n",
        "plot_spectra(\"F\",\"8\",\"-1.5\",wv_Ha)\n",
        "\n",
        "\n",
        "# uncomment and try next one... after commenting out above... \n",
        "# plot_spectra(\"G\",\"2\",\"+0.0\",8542)\n"
      ]
    },
    {
      "cell_type": "code",
      "source": [
        "# Try to plot a B type spectrum...\n",
        "plot_spectra(\"B\",\"0\",\"\",wv_Ha)\n",
        "\n",
        "# An error will occur, since the plot_spectra function is not ideal.\n",
        "# It uses specific file format."
      ],
      "metadata": {
        "id": "DS8_s_wCfYmA"
      },
      "execution_count": null,
      "outputs": []
    },
    {
      "cell_type": "code",
      "source": [
        "#Some files are stored with different names, e.g. B0.fits\t\n",
        "# This is NOT asked for the exersise, but if anyone likes to try and see all spectral types you can play with this cell\n",
        "# So here is a working example, perhaps you can try and make a function that works with B type stars\n",
        "\n",
        "f=fits.open(\"PyHammer/resources/templates/B0.fits\")\n",
        "specdata = f[1].data \n",
        "specheader = f[0].header\n",
        "lamb = 10**specdata['loglam'] * u.AA \n",
        "flux = specdata['flux'] * 10**-17 * u.Unit('erg cm-2 s-1 AA-1') \n",
        "spec = Spectrum1D(spectral_axis=lamb, flux=flux) \n",
        "\n",
        "\n",
        "fig=px.line(x=lamb, y=flux,labels={\"x\": f\"Wavelength [{lamb.unit.to_string()}]\",\"y\": f\"Flux [{flux.unit.to_string()}]\"}, width=1000, height=300)\n",
        "fig.update_layout(\n",
        "    margin=dict(l=0, r=5, t=0, b=0),\n",
        "    paper_bgcolor=\"LightSteelBlue\",\n",
        ")\n",
        "fig.add_vline(wv_Ca_K)\n",
        "fig.add_vline(wv_Ca_H)\n",
        "fig.add_vline(wv_Ha)\n",
        "fig"
      ],
      "metadata": {
        "id": "qjdyfVY9fxo6"
      },
      "execution_count": null,
      "outputs": []
    },
    {
      "cell_type": "code",
      "execution_count": null,
      "metadata": {
        "id": "FKZgGSFOikpO"
      },
      "outputs": [],
      "source": [
        "# Now we define a function that estimates the equivalent width.\n",
        "# We need the input file defined by the first 3 parameters\n",
        "# the next 4 inputs are the left1-left2, right1-right2 the ranges under which continuum is estimated\n",
        "# After continuum is estimated the spectrum is subtracted by the continuum (linear function) and integrated\n",
        "# Area below the continuum is negative and above positive.\n",
        "# By integrating between left2-right1 we get the line strength which is then translated to equivalent streangth\n",
        "# This is done by 'equivalent_width' function imported by 'specutils.analysis' package\n",
        "# The final parameter... 'line' is only used for ploting purposes i.e. plotting a rectangular with area equal to the equivalent width around the input value.\n",
        "# Changing this last value will not change the calculation, only the plot\n",
        "\n",
        "\n",
        "def estimate_eq(spectral_type,sub_spectral_type,metalicity,x_left1,x_left2,x_right1,x_right2,line,make_plots=True):\n",
        "  fname=f\"PyHammer/resources/templates/{spectral_type}{sub_spectral_type}_{metalicity}_Dwarf.fits\"\n",
        "  #USE this for file in G Drive\n",
        "  # fname=f\"/content/drive/My Drive/Astro_lab/DATA/{spectral_type}{sub_spectral_type}_{metalicity}_Dwarf.fits\"\n",
        "  if os.path.isfile(fname):\n",
        "    f=fits.open(fname)\n",
        "    specdata = f[1].data \n",
        "    lamb = 10**specdata['loglam'] * u.AA \n",
        "    flux = specdata['flux'] * 10**-17 * u.Unit('erg cm-2 s-1 AA-1') \n",
        "\n",
        "    wv=lamb.value\n",
        "    mask_left=(wv>x_left1) & (wv<x_left2)\n",
        "    mask_right=(wv>x_right1) & (wv<x_right2)\n",
        "    F_left = np.mean(flux[mask_left])\n",
        "    F_right = np.mean(flux[mask_right])\n",
        "    wv_left=np.median(wv[mask_left])\n",
        "    wv_right=np.median(wv[mask_right])\n",
        "\n",
        "    slope= (F_right-F_left)/(wv_right-wv_left)\n",
        "    continuum = slope*(wv-wv_left) + F_left\n",
        "\n",
        "    cont_norm_spec=flux/continuum\n",
        "    \n",
        "    eq_est_mask=(wv>x_left2) & (wv<x_right1)\n",
        "    spec_norm = Spectrum1D(spectral_axis=lamb[eq_est_mask], flux=cont_norm_spec[eq_est_mask]) \n",
        "    eq=equivalent_width(spec_norm, regions=SpectralRegion(x_left2 * u.AA, x_right1 * u.AA)) \n",
        "\n",
        "    if make_plots:\n",
        "      fig=px.line(x=wv, y=flux,labels={\"x\": f\"Wavelength [{lamb.unit.to_string()}]\",\"y\": f\"Flux [{flux.unit.to_string()}]\"}, width=1000, height=300)\n",
        "      fig.update_layout(\n",
        "          margin=dict(l=0, r=5, t=0, b=0),\n",
        "          paper_bgcolor=\"LightSteelBlue\",\n",
        "      )\n",
        "      fig.add_vrect(x0=x_left1, x1=x_left2, fillcolor=\"green\", opacity=0.25, line_width=0)\n",
        "      fig.add_vrect(x0=x_right1, x1=x_right2, fillcolor=\"green\", opacity=0.25, line_width=0)\n",
        "      fig.add_scatter(x=wv,y=continuum,mode='lines')\n",
        "      display(fig)\n",
        "\n",
        "      fig_line=px.line(x=wv[eq_est_mask], y=cont_norm_spec[eq_est_mask],labels={\"x\": f\"Wavelength [{lamb.unit.to_string()}]\",\"y\": f\"Flux [{flux.unit.to_string()}]\"}, width=1000, height=300)\n",
        "      fig_line.update_layout(\n",
        "          margin=dict(l=0, r=5, t=0, b=0),\n",
        "          paper_bgcolor=\"LightSteelBlue\",\n",
        "      )\n",
        "      fig_line.add_vrect(x0=line-eq.value/2, x1=line+eq.value/2, fillcolor=\"red\", opacity=0.25, line_width=0)\n",
        "      display(fig_line)\n",
        "    \n",
        "    return eq\n",
        "  else:\n",
        "    raise ValueError(f\"The template {fname} does't exist\")"
      ]
    },
    {
      "cell_type": "code",
      "execution_count": null,
      "metadata": {
        "id": "9v1i_2ZFeQse"
      },
      "outputs": [],
      "source": [
        "# Use the above funvtion to estimate equivalent width on the spectrum in the  'F8_-0.5_Dwarf.fits' file.\n",
        "# look again at the 'ls' comand above to see what data you have \n",
        "estimate_eq(\"F\",\"8\",\"-1.5\",6471,6500,6624,6650,6564.75)"
      ]
    },
    {
      "cell_type": "code",
      "execution_count": null,
      "metadata": {
        "id": "-3VyU01qOqe-"
      },
      "outputs": [],
      "source": [
        "# Try another line...\n",
        "estimate_eq(\"F\",\"8\",\"-1.5\",3915,3920,3945,3950,3935)"
      ]
    },
    {
      "cell_type": "code",
      "execution_count": null,
      "metadata": {
        "id": "wE9AejTBn2PK"
      },
      "outputs": [],
      "source": [
        "# Lets make life easier... one can repeat above commands for 10 spectral types 10 subclasses and some metalicity values..\n",
        "# But we can do this with an automated loop.\n",
        "# We first define some tables... \n",
        "# The tables below might contain combinations of values that are not in the data e.g. B stars contain no metalicity and files are names as 'B0.fits\t'\n",
        "\n",
        "spectral_types=[\"O\",\"B\",\"A\",\"F\",\"G\",\"K\"]#,\"M\"]\n",
        "sub_spectral_types=[\"0\",\"1\",\"2\",\"3\",\"4\",\"5\",\"6\",\"7\",\"8\",\"9\"]\n",
        "metalicity=\"+0.0\"#,\"-1.5\",\"-1.0\",\"-0.5\",\"+0.0\",\"+0.5\",\"+1.0\"]\n",
        "\n",
        "\n",
        "# if you are interested in a subset of data you can do it... simply define only G stars for example\n",
        "# spectral_types=[\"G\"]\n",
        "\n",
        "df = pd.DataFrame(columns=['SpectralType','Metalicity','Ha_Width','CaK_Width'])\n",
        "for st in spectral_types:\n",
        "  for sst in sub_spectral_types:\n",
        "    try: # Check if file existss\n",
        "    # See the make_plots=False flag, try 'True' flag to create all plots... this will be slower\n",
        "      eqHa=estimate_eq(st,sst,metalicity,6471,6500,6624,6650,6564,make_plots=False).value\n",
        "      eqCaK=estimate_eq(st,sst,metalicity,3915,3920,3945,3950,3935,make_plots=False).value\n",
        "      \n",
        "      entry = pd.DataFrame.from_dict({\n",
        "        \"SpectralType\": [f\"{st}{sst}\"],\n",
        "        \"Metalicity\":  [metalicity],\n",
        "        \"Ha_Width\":eqHa,\n",
        "        \"CaK_Width\":eqCaK\n",
        "        })\n",
        "    except:\n",
        "      entry = pd.DataFrame.from_dict({\n",
        "        \"SpectralType\": [f\"{st}{sst}\"],\n",
        "        \"Metalicity\":  [metalicity],\n",
        "        \"Ha_Width\":np.NaN,\n",
        "        \"CaK_Width\":np.NaN\n",
        "        })\n",
        "    df = pd.concat([df, entry], ignore_index=True)"
      ]
    },
    {
      "cell_type": "code",
      "execution_count": null,
      "metadata": {
        "id": "7jD8TuH8A2Sa"
      },
      "outputs": [],
      "source": [
        "# lets print the df dataframe that has a list of all combinations of  spectral_types subclass and metalicity\n",
        "# This does not work with O-B type stars that is why you will see that the code has computed nothing  'NaN'\n",
        "# For extra credit (it is not Mandatory) try to plot a B or O type star and calculate equivalent width\n",
        "\n",
        "df"
      ]
    },
    {
      "cell_type": "code",
      "execution_count": null,
      "metadata": {
        "id": "PqHk2iiLkO2s"
      },
      "outputs": [],
      "source": [
        "df.plot.bar(\"SpectralType\",\"Ha_Width\",figsize=(16,10))"
      ]
    },
    {
      "cell_type": "code",
      "execution_count": null,
      "metadata": {
        "id": "KIUMMp5ys-AO"
      },
      "outputs": [],
      "source": [
        "df.plot.bar(\"SpectralType\",\"CaK_Width\",figsize=(16,10))"
      ]
    },
    {
      "cell_type": "code",
      "execution_count": null,
      "metadata": {
        "id": "GLa0tZIKQpPs"
      },
      "outputs": [],
      "source": []
    }
  ],
  "metadata": {
    "colab": {
      "collapsed_sections": [],
      "provenance": []
    },
    "kernelspec": {
      "display_name": "Python 3",
      "name": "python3"
    },
    "language_info": {
      "name": "python"
    }
  },
  "nbformat": 4,
  "nbformat_minor": 0
}